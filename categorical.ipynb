{
  "nbformat": 4,
  "nbformat_minor": 0,
  "metadata": {
    "colab": {
      "provenance": [],
      "authorship_tag": "ABX9TyMv4pCZiJcNtXwGpQxGNcwp",
      "include_colab_link": true
    },
    "kernelspec": {
      "name": "python3",
      "display_name": "Python 3"
    },
    "language_info": {
      "name": "python"
    }
  },
  "cells": [
    {
      "cell_type": "markdown",
      "metadata": {
        "id": "view-in-github",
        "colab_type": "text"
      },
      "source": [
        "<a href=\"https://colab.research.google.com/github/Harikapalupuri/machine-learning/blob/main/categorical.ipynb\" target=\"_parent\"><img src=\"https://colab.research.google.com/assets/colab-badge.svg\" alt=\"Open In Colab\"/></a>"
      ]
    },
    {
      "cell_type": "code",
      "source": [
        "import pandas as pd\n",
        "# Sample DataFrame\n",
        "data = {\n",
        "    'Color': ['Red', 'Blue', 'Green', 'Blue', 'Red'],\n",
        "    'Size': ['S', 'M', 'L', 'M', 'S'],\n",
        "    'Price': [10.5, 15.0, 20.0, 15.0, 10.5]\n",
        "}\n",
        "\n",
        "df = pd.DataFrame(data)\n",
        "print(\"Original DataFrame:\")\n",
        "print(df)\n",
        "# One-Hot Encoding\n",
        "one_hot_encoded_df = pd.get_dummies(df, columns=['Color', 'Size'], drop_first=True)\n",
        "print(\"\\nOne-Hot Encoded DataFrame:\")\n",
        "print(one_hot_encoded_df)\n",
        "# Label Encoding\n",
        "from sklearn.preprocessing import LabelEncoder\n",
        "\n",
        "label_encoder = LabelEncoder()\n",
        "\n",
        "# Apply Label Encoding to 'Color' and 'Size'\n",
        "df['Color_Label'] = label_encoder.fit_transform(df['Color'])\n",
        "df['Size_Label'] = label_encoder.fit_transform(df['Size'])\n",
        "\n",
        "print(\"\\nDataFrame with Label Encoding:\")\n",
        "print(df)"
      ],
      "metadata": {
        "colab": {
          "base_uri": "https://localhost:8080/"
        },
        "id": "_c-ZSR6PTxgY",
        "outputId": "aa1d11eb-438b-421f-f3e7-f2cde6b66399"
      },
      "execution_count": 11,
      "outputs": [
        {
          "output_type": "stream",
          "name": "stdout",
          "text": [
            "Original DataFrame:\n",
            "   Color Size  Price\n",
            "0    Red    S   10.5\n",
            "1   Blue    M   15.0\n",
            "2  Green    L   20.0\n",
            "3   Blue    M   15.0\n",
            "4    Red    S   10.5\n",
            "\n",
            "One-Hot Encoded DataFrame:\n",
            "   Price  Color_Green  Color_Red  Size_M  Size_S\n",
            "0   10.5        False       True   False    True\n",
            "1   15.0        False      False    True   False\n",
            "2   20.0         True      False   False   False\n",
            "3   15.0        False      False    True   False\n",
            "4   10.5        False       True   False    True\n",
            "\n",
            "DataFrame with Label Encoding:\n",
            "   Color Size  Price  Color_Label  Size_Label\n",
            "0    Red    S   10.5            2           2\n",
            "1   Blue    M   15.0            0           1\n",
            "2  Green    L   20.0            1           0\n",
            "3   Blue    M   15.0            0           1\n",
            "4    Red    S   10.5            2           2\n"
          ]
        }
      ]
    }
  ]
}